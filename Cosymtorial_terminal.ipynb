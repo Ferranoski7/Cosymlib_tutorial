{
  "nbformat": 4,
  "nbformat_minor": 0,
  "metadata": {
    "colab": {
      "name": "Cosymtorial_terminal.ipynb",
      "provenance": [],
      "collapsed_sections": [
        "3syNqZ3-JGlY"
      ]
    },
    "kernelspec": {
      "name": "python3",
      "display_name": "Python 3"
    },
    "language_info": {
      "name": "python"
    }
  },
  "cells": [
    {
      "cell_type": "markdown",
      "source": [
        "# Cosymlib\n",
        "---\n",
        "---\n",
        "To start using Cosymlib you just need to install it as you would any other Python library. \n",
        "\n",
        "It can later be used via script or via Terminal, Terminal usage will be our main focus.\n",
        "\n",
        "---\n",
        "---"
      ],
      "metadata": {
        "id": "3syNqZ3-JGlY"
      }
    },
    {
      "cell_type": "code",
      "execution_count": 6,
      "metadata": {
        "colab": {
          "base_uri": "https://localhost:8080/"
        },
        "id": "kQIRVcm1IyDx",
        "outputId": "010675a0-3aed-4777-daf5-d30d7f5cc2aa"
      },
      "outputs": [
        {
          "output_type": "stream",
          "name": "stdout",
          "text": [
            "Requirement already satisfied: cosymlib in /usr/local/lib/python3.7/dist-packages (0.10.5)\n",
            "Requirement already satisfied: huckelpy in /usr/local/lib/python3.7/dist-packages (from cosymlib) (0.2.3)\n",
            "Requirement already satisfied: numpy in /usr/local/lib/python3.7/dist-packages (from cosymlib) (1.21.5)\n",
            "Requirement already satisfied: PyYAML in /usr/local/lib/python3.7/dist-packages (from cosymlib) (3.13)\n",
            "Requirement already satisfied: wfnsympy in /usr/local/lib/python3.7/dist-packages (from cosymlib) (0.3.1)\n",
            "Requirement already satisfied: matplotlib in /usr/local/lib/python3.7/dist-packages (from cosymlib) (3.2.2)\n",
            "Requirement already satisfied: symgroupy in /usr/local/lib/python3.7/dist-packages (from cosymlib) (0.5.7)\n",
            "Requirement already satisfied: scipy in /usr/local/lib/python3.7/dist-packages (from huckelpy->cosymlib) (1.4.1)\n",
            "Requirement already satisfied: kiwisolver>=1.0.1 in /usr/local/lib/python3.7/dist-packages (from matplotlib->cosymlib) (1.4.0)\n",
            "Requirement already satisfied: cycler>=0.10 in /usr/local/lib/python3.7/dist-packages (from matplotlib->cosymlib) (0.11.0)\n",
            "Requirement already satisfied: python-dateutil>=2.1 in /usr/local/lib/python3.7/dist-packages (from matplotlib->cosymlib) (2.8.2)\n",
            "Requirement already satisfied: pyparsing!=2.0.4,!=2.1.2,!=2.1.6,>=2.0.1 in /usr/local/lib/python3.7/dist-packages (from matplotlib->cosymlib) (3.0.7)\n",
            "Requirement already satisfied: typing-extensions in /usr/local/lib/python3.7/dist-packages (from kiwisolver>=1.0.1->matplotlib->cosymlib) (3.10.0.2)\n",
            "Requirement already satisfied: six>=1.5 in /usr/local/lib/python3.7/dist-packages (from python-dateutil>=2.1->matplotlib->cosymlib) (1.15.0)\n"
          ]
        }
      ],
      "source": [
        "!pip install cosymlib"
      ]
    },
    {
      "cell_type": "markdown",
      "source": [
        "Cosymlib allows for both shape and continuous symmetry measures (CSM), these can be done by means of the different scripts:\n",
        "\n",
        "---\n",
        "*   **shape**: For shape measures of different  geometries.\n",
        "*   **shape_map**: To build the minimum distrorsion pathand where a structure lies.\n",
        "*   **gsym**: For continuous symmetry measures based on the structure's geometry.\n",
        "*   **cchir**: For chirality measures up to order 8.\n",
        "*   **mosym**: For pseudo-symmetry annalysis for molecular orbitals based on electronic structure.\n",
        "*   **esym**: For continuous symmetry measures for the electronic density.\n",
        "*   **cosym**: Allows for all of the above measures.\n",
        "---\n",
        "---"
      ],
      "metadata": {
        "id": "m12Yt_E_JpdO"
      }
    },
    {
      "cell_type": "markdown",
      "source": [
        "## Supported Files\n",
        "---\n",
        "Cosymlib is able to generate a Molecule object by reading any of the following files that include the geometry with or without electronic structure for one or multiple molecules/structures.\n",
        "\n",
        "\n",
        "Geometry files:\n",
        "*   **cor**\n",
        "*   **xyz**: With either Atomic Numbers or with Atomic Symbols \n",
        "*   **Conquest formatted files**\n",
        "*   **pdb**\n",
        "\n",
        "Geometry and Electronic Structure files: \n",
        "*   **fchk**\n",
        "*   **molden**\n",
        "\n",
        "A Molecule object without electronic stucture will autogenerate one using Extended Huckel. For geometry based measures, the electronic structure is not necessary and will not be used.\n",
        "\n",
        "---\n",
        "\n",
        "If you are using Cosymlib via script, you can generate a Geometry object by hand.\n",
        "\n",
        "Start by importing the library and the necessary objects.\n"
      ],
      "metadata": {
        "id": "kGXjn75tNkbo"
      }
    },
    {
      "cell_type": "code",
      "source": [
        "import cosymlib\n",
        "from cosymlib.molecule import Molecule\n",
        "from cosymlib.molecule.geometry import Geometry"
      ],
      "metadata": {
        "id": "CWP4iv0sUpxK"
      },
      "execution_count": 7,
      "outputs": []
    },
    {
      "cell_type": "markdown",
      "source": [
        "Generate your Geometry by indicating the positions for the atoms, the atomic symbols, the name of your molecule and the connectivity between atoms."
      ],
      "metadata": {
        "id": "GJse_nnYVCl5"
      }
    },
    {
      "cell_type": "code",
      "source": [
        "water = Geometry(positions=[[0.0, 0.0, 0.0],\n",
        "                                    [0.0, 1.0, 0.0],\n",
        "                                    [0.0, 0.0, 1.0]],\n",
        "                         symbols = ['O','H','H'],\n",
        "                         name='water molecule',\n",
        "                         connectivity=[[1, 2], [1, 3]])"
      ],
      "metadata": {
        "id": "NtVNzR_sVG8V"
      },
      "execution_count": 8,
      "outputs": []
    },
    {
      "cell_type": "markdown",
      "source": [
        "You can easily convert your Geometry object into a Molecule object."
      ],
      "metadata": {
        "id": "AgE_j656VZzv"
      }
    },
    {
      "cell_type": "code",
      "source": [
        "water = Molecule(water)"
      ],
      "metadata": {
        "id": "nGuXYOymVhTr"
      },
      "execution_count": 9,
      "outputs": []
    },
    {
      "cell_type": "markdown",
      "source": [
        "More on that on a future Workshop.\n",
        "\n",
        "---\n",
        "---"
      ],
      "metadata": {
        "id": "-P0umi16VnRM"
      }
    },
    {
      "cell_type": "markdown",
      "source": [
        "# Shape\n",
        "---\n",
        "---"
      ],
      "metadata": {
        "id": "6WXm8eDiV0T5"
      }
    },
    {
      "cell_type": "code",
      "source": [
        "!shape "
      ],
      "metadata": {
        "id": "TDwNkCJUXXo_"
      },
      "execution_count": null,
      "outputs": []
    }
  ]
}